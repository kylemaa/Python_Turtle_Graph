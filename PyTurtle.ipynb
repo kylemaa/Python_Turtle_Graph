{
 "cells": [
  {
   "cell_type": "code",
   "execution_count": 1,
   "metadata": {},
   "outputs": [],
   "source": [
    "import turtle"
   ]
  },
  {
   "cell_type": "code",
   "execution_count": 2,
   "metadata": {},
   "outputs": [],
   "source": [
    "rachel = turtle.Turtle()\n",
    "alex = turtle.Turtle()\n",
    "a_real_turtle = turtle.Turtle()"
   ]
  },
  {
   "cell_type": "code",
   "execution_count": 3,
   "metadata": {},
   "outputs": [],
   "source": [
    "def square(turtle_obj, length):\n",
    "    for i in range (4):\n",
    "        turtle_obj.fd(length)\n",
    "        turtle_obj.lt(90)"
   ]
  },
  {
   "cell_type": "code",
   "execution_count": 4,
   "metadata": {},
   "outputs": [],
   "source": [
    "def polygon(turtle_obj, length, n):\n",
    "    degree = 360/n\n",
    "    if n > 4:\n",
    "        for i in range (n):\n",
    "            turtle_obj.fd(length)\n",
    "            turtle_obj.lt(degree)\n",
    "    else:\n",
    "        return 'This cannot be a square'"
   ]
  },
  {
   "cell_type": "code",
   "execution_count": 5,
   "metadata": {},
   "outputs": [],
   "source": [
    "polygon(alex, 100, 7)\n",
    "polygon(rachel, 70, 7)\n",
    "polygon(a_real_turtle, 25, 7)"
   ]
  },
  {
   "cell_type": "code",
   "execution_count": 6,
   "metadata": {},
   "outputs": [],
   "source": [
    "polygon(alex, 1, 600)"
   ]
  }
 ],
 "metadata": {
  "kernelspec": {
   "display_name": "Python 3",
   "language": "python",
   "name": "python3"
  },
  "language_info": {
   "codemirror_mode": {
    "name": "ipython",
    "version": 3
   },
   "file_extension": ".py",
   "mimetype": "text/x-python",
   "name": "python",
   "nbconvert_exporter": "python",
   "pygments_lexer": "ipython3",
   "version": "3.7.3"
  }
 },
 "nbformat": 4,
 "nbformat_minor": 2
}
